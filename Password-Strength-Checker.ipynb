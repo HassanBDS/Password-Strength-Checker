{
 "cells": [
  {
   "cell_type": "markdown",
   "metadata": {},
   "source": [
    "# Password Strength Checker"
   ]
  },
  {
   "cell_type": "code",
   "execution_count": 3,
   "metadata": {},
   "outputs": [],
   "source": [
    "import ipywidgets as widgets\n",
    "from IPython.display import display"
   ]
  },
  {
   "cell_type": "code",
   "execution_count": 4,
   "metadata": {},
   "outputs": [
    {
     "data": {
      "application/vnd.jupyter.widget-view+json": {
       "model_id": "06089c0a362346e69b7d23c06ea642be",
       "version_major": 2,
       "version_minor": 0
      },
      "text/plain": [
       "VBox(layout=Layout(padding='20px'))"
      ]
     },
     "metadata": {},
     "output_type": "display_data"
    },
    {
     "data": {
      "application/vnd.jupyter.widget-view+json": {
       "model_id": "eda6a1a90c494493b6fb645cde7e68a0",
       "version_major": 2,
       "version_minor": 0
      },
      "text/plain": [
       "Label(value='Enter a password:', layout=Layout(padding='10px'))"
      ]
     },
     "metadata": {},
     "output_type": "display_data"
    },
    {
     "data": {
      "application/vnd.jupyter.widget-view+json": {
       "model_id": "997ec58aeb88458aa7e9d885bab60215",
       "version_major": 2,
       "version_minor": 0
      },
      "text/plain": [
       "VBox(children=(Password(), Button(description='Check Strength', style=ButtonStyle()), Label(value='Enter a pas…"
      ]
     },
     "metadata": {},
     "output_type": "display_data"
    }
   ],
   "source": [
    "\n",
    "# Create a container with black background\n",
    "# container = widgets.VBox([password_input])\n",
    "container = widgets.VBox(layout=widgets.Layout(background_color=\"black\", padding=\"20px\"))\n",
    "display(container)\n",
    "\n",
    "# Create Input for the Password\n",
    "passward_input = widgets.Password(descriprion=\"Password: \")\n",
    "\n",
    "# Add an Output Display for Password Strength\n",
    "result_label = widgets.Label(value=\"Enter a password:\", layout=widgets.Layout(padding=\"10px\", color=\"white\"))\n",
    "display(result_label)\n",
    "\n",
    "# Password Strength Evaluation Logic\n",
    "def evaluate_password_strength(password):\n",
    "    strength = \"Weak\"\n",
    "    if len(password) >= 8:\n",
    "        strength = \"Medium\"\n",
    "        if any(char.isdigit() for char in password) and any (char.isupper() for char in password):\n",
    "            strength = \"Strong\"\n",
    "    return strength\n",
    "\n",
    "\n",
    "# Linking Evaluation to Widgets\n",
    "def update_strength(b):\n",
    "    passowrd = passward_input.value\n",
    "    strength = evaluate_password_strength(passowrd)\n",
    "    result_label.value = f\"Strength: {strength}\"\n",
    "\n",
    "    # Change label color based on strength\n",
    "    if strength == \"Weak\":\n",
    "        result_label.style = {\"color\": \"red\"}\n",
    "    elif strength == \"Medium\":\n",
    "        result_label.style = {\"color\": \"orange\"}\n",
    "    elif strength == \"Strong\":\n",
    "        result_label.style = {\"color\": \"green\"}\n",
    "\n",
    "# Create a Button for Checking Password Strength\n",
    "check_button = widgets.Button(description=\"Check Strength\")\n",
    "\n",
    "# Attaching Functionality and Enhancing GUI\n",
    "check_button.on_click(update_strength)\n",
    "container = widgets.VBox([\n",
    "    passward_input,\n",
    "    check_button,\n",
    "    result_label\n",
    "])\n",
    "\n",
    "container.layout = widgets.Layout(\n",
    "    background_color=\"black\",\n",
    "    padding=\"20px\",\n",
    "    border=\"2px solid white\"\n",
    ")\n",
    "\n",
    "display(container)\n",
    "\n"
   ]
  }
 ],
 "metadata": {
  "kernelspec": {
   "display_name": "venv",
   "language": "python",
   "name": "python3"
  },
  "language_info": {
   "codemirror_mode": {
    "name": "ipython",
    "version": 3
   },
   "file_extension": ".py",
   "mimetype": "text/x-python",
   "name": "python",
   "nbconvert_exporter": "python",
   "pygments_lexer": "ipython3",
   "version": "3.12.3"
  }
 },
 "nbformat": 4,
 "nbformat_minor": 2
}
